{
 "cells": [
  {
   "cell_type": "code",
   "execution_count": 1,
   "id": "be5895a6",
   "metadata": {},
   "outputs": [
    {
     "data": {
      "text/plain": [
       "True"
      ]
     },
     "execution_count": 1,
     "metadata": {},
     "output_type": "execute_result"
    }
   ],
   "source": [
    "from langchain_perplexity import ChatPerplexity\n",
    "from langchain_core.prompts import PromptTemplate\n",
    "from dotenv import load_dotenv\n",
    "load_dotenv()"
   ]
  },
  {
   "cell_type": "code",
   "execution_count": null,
   "id": "20581e5a",
   "metadata": {},
   "outputs": [],
   "source": [
    "model = ChatPerplexity(model='sonar')\n",
    "# result = model.invoke(\"who was best prime minister of India?\")\n",
    "# print(result.content)"
   ]
  },
  {
   "cell_type": "code",
   "execution_count": 5,
   "id": "c754b995",
   "metadata": {},
   "outputs": [],
   "source": [
    "template1 = PromptTemplate(\n",
    "    template=\"Write a detailed report on invention of {product}\",\n",
    "    input_variables=['product']\n",
    ")\n",
    "template2 = PromptTemplate(\n",
    "    template=\"Write a 5 lines summary of below text.\\n{text}\",\n",
    "    input_variables=['text']\n",
    ")"
   ]
  },
  {
   "cell_type": "code",
   "execution_count": 6,
   "id": "d63c2f8c",
   "metadata": {},
   "outputs": [],
   "source": [
    "prompt1 = template1.invoke({'product':'Washing Machine'})\n",
    "result1 = model.invoke(prompt1)"
   ]
  },
  {
   "cell_type": "code",
   "execution_count": 7,
   "id": "6bc592b5",
   "metadata": {},
   "outputs": [
    {
     "name": "stdout",
     "output_type": "stream",
     "text": [
      "The washing machine evolved from early mechanical concepts in the late 17th century to modern automatic electric machines. The first known patent was issued in England in 1691, followed by key designs such as Jacob Christian Schäffer's in 1767 and Nathaniel Briggs' U.S. patent in 1797, which introduced manual agitation and wringing mechanisms. In 1851, James King invented the rotating drum, improving washing efficiency. The early 20th century saw the introduction of electric-powered drums, and by the 1930s, fully automatic machines with timers and thermostats emerged. From the 1980s onward, sensors enabled energy- and water-efficient machines that adapt to fabric types and load sizes[1][2][3][5].\n"
     ]
    }
   ],
   "source": [
    "prompt2 = template2.invoke({'text':result1.content})\n",
    "result2 = model.invoke(prompt2)\n",
    "print(result2.content)"
   ]
  },
  {
   "cell_type": "code",
   "execution_count": 9,
   "id": "5b4a8712",
   "metadata": {},
   "outputs": [
    {
     "data": {
      "text/plain": [
       "AIMessage(content=\"The washing machine evolved from early mechanical concepts in the late 17th century to modern automatic electric machines. The first known patent was issued in England in 1691, followed by key designs such as Jacob Christian Schäffer's in 1767 and Nathaniel Briggs' U.S. patent in 1797, which introduced manual agitation and wringing mechanisms. In 1851, James King invented the rotating drum, improving washing efficiency. The early 20th century saw the introduction of electric-powered drums, and by the 1930s, fully automatic machines with timers and thermostats emerged. From the 1980s onward, sensors enabled energy- and water-efficient machines that adapt to fabric types and load sizes[1][2][3][5].\", additional_kwargs={'citations': ['https://speedqueeninvestor.com/news/history-of-the-washing-machine/', 'https://washingmachinewise.in/washing-machine-timeline-history/', 'https://en.wikipedia.org/wiki/Washing_machine', 'https://www.youtube.com/watch?v=cTGtZ0u7f70', 'https://www.timetoast.com/timelines/the-washing-machine-timeline'], 'search_results': [{'title': 'Evolution of the Washing Machine | Speed Queen Investor', 'url': 'https://speedqueeninvestor.com/news/history-of-the-washing-machine/', 'date': '2025-03-25', 'last_updated': '2025-03-31'}, {'title': 'Washing Machine Timeline & A brief History - WMW India', 'url': 'https://washingmachinewise.in/washing-machine-timeline-history/', 'date': '2020-05-21', 'last_updated': '2025-05-08'}, {'title': 'Washing machine - Wikipedia', 'url': 'https://en.wikipedia.org/wiki/Washing_machine', 'date': '2003-01-21', 'last_updated': '2025-08-05'}, {'title': 'Evolution of Washing Machines [1767-2021] | History - YouTube', 'url': 'https://www.youtube.com/watch?v=cTGtZ0u7f70', 'date': '2021-08-20', 'last_updated': '2025-07-04'}, {'title': 'The washing machine timeline | Timetoast', 'url': 'https://www.timetoast.com/timelines/the-washing-machine-timeline', 'date': None, 'last_updated': '2025-03-07'}]}, response_metadata={'model_name': 'sonar'}, id='run--88e34c90-409d-44f0-815c-6f997fb0f75e-0', usage_metadata={'input_tokens': 595, 'output_tokens': 155, 'total_tokens': 750})"
      ]
     },
     "execution_count": 9,
     "metadata": {},
     "output_type": "execute_result"
    }
   ],
   "source": [
    "result2"
   ]
  },
  {
   "cell_type": "code",
   "execution_count": 12,
   "id": "828ecbec",
   "metadata": {},
   "outputs": [],
   "source": [
    "# Here onward we will see how can we use different output parsers from LangChain\n",
    "from langchain_core.output_parsers import StrOutputParser\n",
    "parser = StrOutputParser()"
   ]
  },
  {
   "cell_type": "code",
   "execution_count": 13,
   "id": "9a387fe0",
   "metadata": {},
   "outputs": [
    {
     "name": "stdout",
     "output_type": "stream",
     "text": [
      "The invention of television was a gradual process involving many inventors and key technological milestones from the late 19th century through the 1920s. Paul Nipkow’s 1884 scanning disk laid the foundation for mechanical television systems, while the term \"television\" was coined by Constantin Perskyi in 1900. Innovators such as Boris Rosing, Charles Jenkins, and John Logie Baird advanced mechanical and early electrical television, with Baird transmitting the first live human face in 1925. The pivotal breakthrough came with Philo Farnsworth’s fully electronic television system in 1927, which used an electron beam for image scanning, marking the transition from mechanical to electronic TV. Subsequent developments by Vladimir Zworykin and others led to the commercial production of electronic televisions by the 1930s[1][2][3][4][5].\n"
     ]
    }
   ],
   "source": [
    "chain = template1 | model | parser | template2 | model | parser\n",
    "result = chain.invoke({'product':'Television'})\n",
    "print(result)"
   ]
  },
  {
   "cell_type": "code",
   "execution_count": null,
   "id": "453e4332",
   "metadata": {},
   "outputs": [],
   "source": []
  }
 ],
 "metadata": {
  "kernelspec": {
   "display_name": "genai_langchain",
   "language": "python",
   "name": "python3"
  },
  "language_info": {
   "codemirror_mode": {
    "name": "ipython",
    "version": 3
   },
   "file_extension": ".py",
   "mimetype": "text/x-python",
   "name": "python",
   "nbconvert_exporter": "python",
   "pygments_lexer": "ipython3",
   "version": "3.11.13"
  }
 },
 "nbformat": 4,
 "nbformat_minor": 5
}
